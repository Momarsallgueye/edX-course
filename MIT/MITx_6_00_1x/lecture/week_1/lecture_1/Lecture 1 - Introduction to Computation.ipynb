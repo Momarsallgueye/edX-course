{
 "cells": [
  {
   "cell_type": "markdown",
   "metadata": {},
   "source": [
    "# L1 PROBLEM 1"
   ]
  },
  {
   "cell_type": "markdown",
   "metadata": {},
   "source": [
    "<img src=\"images/lec1_pic01.png\">\n",
    "<img src=\"images/lec1_pic02.png\">\n",
    "<img src=\"images/lec1_pic03.png\">\n",
    "\n",
    "*Screenshot taken from [edx](https://courses.edx.org/courses/course-v1:MITx+6.00.1x_6+2T2015/courseware/Week_1/a3deaa6114824f43bce877dffe37cdd6/)*\n",
    "\n",
    "<!--TEASER_END-->"
   ]
  },
  {
   "cell_type": "markdown",
   "metadata": {},
   "source": [
    "# L1 PROBLEM 2"
   ]
  },
  {
   "cell_type": "markdown",
   "metadata": {},
   "source": [
    "<img src=\"images/lec1_pic04.png\">\n",
    "<img src=\"images/lec1_pic05.png\">\n",
    "\n",
    "*Screenshot taken from [edx](https://courses.edx.org/courses/course-v1:MITx+6.00.1x_6+2T2015/courseware/Week_1/a3deaa6114824f43bce877dffe37cdd6/)*\n",
    "\n",
    "<!--TEASER_END-->"
   ]
  },
  {
   "cell_type": "markdown",
   "metadata": {},
   "source": [
    "# L1 PROBLEM 3"
   ]
  },
  {
   "cell_type": "markdown",
   "metadata": {},
   "source": [
    "<img src=\"images/lec1_pic06.png\">\n",
    "<img src=\"images/lec1_pic07.png\">\n",
    "<img src=\"images/lec1_pic08.png\">\n",
    "<img src=\"images/lec1_pic09.png\">\n",
    "\n",
    "*Screenshot taken from [edx](https://courses.edx.org/courses/course-v1:MITx+6.00.1x_6+2T2015/courseware/Week_1/a3deaa6114824f43bce877dffe37cdd6/)*\n",
    "\n",
    "<!--TEASER_END-->"
   ]
  },
  {
   "cell_type": "markdown",
   "metadata": {},
   "source": [
    "# L1 PROBLEM 4"
   ]
  },
  {
   "cell_type": "markdown",
   "metadata": {},
   "source": [
    "<img src=\"images/lec1_pic10.png\">\n",
    "\n",
    "*Screenshot taken from [edx](https://courses.edx.org/courses/course-v1:MITx+6.00.1x_6+2T2015/courseware/Week_1/a3deaa6114824f43bce877dffe37cdd6/)*\n",
    "\n",
    "<!--TEASER_END-->"
   ]
  }
 ],
 "metadata": {
  "kernelspec": {
   "display_name": "Python 2",
   "language": "python",
   "name": "python2"
  },
  "language_info": {
   "codemirror_mode": {
    "name": "ipython",
    "version": 2
   },
   "file_extension": ".py",
   "mimetype": "text/x-python",
   "name": "python",
   "nbconvert_exporter": "python",
   "pygments_lexer": "ipython2",
   "version": "2.7.10"
  }
 },
 "nbformat": 4,
 "nbformat_minor": 0
}
