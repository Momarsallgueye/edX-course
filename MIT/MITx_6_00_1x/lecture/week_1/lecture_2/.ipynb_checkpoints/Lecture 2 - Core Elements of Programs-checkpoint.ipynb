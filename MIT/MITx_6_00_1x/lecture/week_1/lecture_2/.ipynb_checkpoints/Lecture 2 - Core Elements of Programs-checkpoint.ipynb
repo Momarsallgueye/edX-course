{
 "cells": [
  {
   "cell_type": "markdown",
   "metadata": {},
   "source": [
    "# L2 PROBLEM 1"
   ]
  },
  {
   "cell_type": "markdown",
   "metadata": {},
   "source": [
    "<img src=\"images/lec2_pic01.png\">\n",
    "\n",
    "*Screenshot taken from [edx](https://courses.edx.org/courses/course-v1:MITx+6.00.1x_6+2T2015/courseware/Week_1/ed0d1659290e4afea1d3d13d1da22392/)*\n",
    "\n",
    "<!--TEASER_END-->"
   ]
  },
  {
   "cell_type": "markdown",
   "metadata": {},
   "source": [
    "# L2 PROBLEM 2"
   ]
  },
  {
   "cell_type": "markdown",
   "metadata": {},
   "source": [
    "<img src=\"images/lec2_pic02.png\">\n",
    "<img src=\"images/lec2_pic03.png\">\n",
    "\n",
    "*Screenshot taken from [edx](https://courses.edx.org/courses/course-v1:MITx+6.00.1x_6+2T2015/courseware/Week_1/ed0d1659290e4afea1d3d13d1da22392/)*\n",
    "\n",
    "<!--TEASER_END-->"
   ]
  },
  {
   "cell_type": "markdown",
   "metadata": {},
   "source": [
    "# L2 PROBLEM 3"
   ]
  },
  {
   "cell_type": "markdown",
   "metadata": {},
   "source": [
    "<img src=\"images/lec2_pic04.png\">\n",
    "<img src=\"images/lec2_pic05.png\">\n",
    "<img src=\"images/lec2_pic06.png\">\n",
    "\n",
    "*Screenshot taken from [edx](https://courses.edx.org/courses/course-v1:MITx+6.00.1x_6+2T2015/courseware/Week_1/ed0d1659290e4afea1d3d13d1da22392/)*\n",
    "\n",
    "<!--TEASER_END-->"
   ]
  },
  {
   "cell_type": "markdown",
   "metadata": {},
   "source": [
    "# L2 PROBLEM 4"
   ]
  },
  {
   "cell_type": "markdown",
   "metadata": {},
   "source": [
    "<img src=\"images/lec2_pic07.png\">\n",
    "<img src=\"images/lec2_pic08.png\">\n",
    "\n",
    "*Screenshot taken from [edx](https://courses.edx.org/courses/course-v1:MITx+6.00.1x_6+2T2015/courseware/Week_1/ed0d1659290e4afea1d3d13d1da22392/)*\n",
    "\n",
    "<!--TEASER_END-->"
   ]
  },
  {
   "cell_type": "markdown",
   "metadata": {},
   "source": [
    "# L2 PROBLEM 5"
   ]
  },
  {
   "cell_type": "markdown",
   "metadata": {},
   "source": [
    "Below is a transcript of a session with the Python shell. For each expression being evaluated, provide the type and the value the expression returns. If evaluating an expression would cause an error, select 'NoneType' and write the word 'error' (note this is a word, not a string) in the box. While you could simply type these expressions into an Idle shell, we encourage you to answer them directly since this will help reinforce your understanding of basic Python expressions.\n",
    "\n",
    "Assume that the expressions are evaluated in the order shown - that is, each problem part is evaluated directly after the previous problem part(s)."
   ]
  },
  {
   "cell_type": "markdown",
   "metadata": {},
   "source": [
    "<img src=\"images/lec2_pic09.png\">\n",
    "<img src=\"images/lec2_pic10.png\">\n",
    "\n",
    "*Screenshot taken from [edx](https://courses.edx.org/courses/course-v1:MITx+6.00.1x_6+2T2015/courseware/Week_1/ed0d1659290e4afea1d3d13d1da22392/)*\n",
    "\n",
    "<!--TEASER_END-->"
   ]
  },
  {
   "cell_type": "markdown",
   "metadata": {},
   "source": [
    "# L2 PROBLEM 6 \n",
    "\n",
    "For each of the following expressions, indicate the value returned, or if the evaluation would lead to an error, write the word 'error' (note this is a word, not a string). While you could simply type these expressions into an Idle shell, we encourage you to answer them directly since this will help reinforce your understanding of basic Python expressions."
   ]
  },
  {
   "cell_type": "markdown",
   "metadata": {},
   "source": [
    "<img src=\"images/lec2_pic11.png\">\n",
    "\n",
    "*Screenshot taken from [edx](https://courses.edx.org/courses/course-v1:MITx+6.00.1x_6+2T2015/courseware/Week_1/ed0d1659290e4afea1d3d13d1da22392/)*\n",
    "\n",
    "<!--TEASER_END-->"
   ]
  },
  {
   "cell_type": "markdown",
   "metadata": {},
   "source": [
    "# L2 PROBLEM 7\n",
    "For each of the expressions below, specify its type and value. If it generates an error, select type 'NoneType' and write the word 'error' (note this is a word, not a string) in the box for the value. While you could simply type these expressions into an Idle shell, we encourage you to answer them directly since this will help reinforce your understand of basic Python expressions.\n",
    "\n",
    "Assume we've made the following assignments:"
   ]
  },
  {
   "cell_type": "markdown",
   "metadata": {},
   "source": [
    "<img src=\"images/lec2_pic12.png\">\n",
    "<img src=\"images/lec2_pic13.png\">\n",
    "<img src=\"images/lec2_pic14.png\">\n",
    "<img src=\"images/lec2_pic15.png\">\n",
    "<img src=\"images/lec2_pic16.png\">\n",
    "<img src=\"images/lec2_pic17.png\">\n",
    "<img src=\"images/lec2_pic18.png\">\n",
    "\n",
    "*Screenshot taken from [edx](https://courses.edx.org/courses/course-v1:MITx+6.00.1x_6+2T2015/courseware/Week_1/ed0d1659290e4afea1d3d13d1da22392/)*\n",
    "\n",
    "<!--TEASER_END-->"
   ]
  },
  {
   "cell_type": "markdown",
   "metadata": {},
   "source": [
    "# L2 PROBLEM 8\n",
    "Write a piece of Python code that prints out the string hello world"
   ]
  },
  {
   "cell_type": "code",
   "execution_count": 1,
   "metadata": {
    "collapsed": false
   },
   "outputs": [
    {
     "name": "stdout",
     "output_type": "stream",
     "text": [
      "hello world\n"
     ]
    }
   ],
   "source": [
    "print 'hello world'"
   ]
  },
  {
   "cell_type": "code",
   "execution_count": null,
   "metadata": {
    "collapsed": true
   },
   "outputs": [],
   "source": []
  }
 ],
 "metadata": {
  "kernelspec": {
   "display_name": "Python 2",
   "language": "python",
   "name": "python2"
  },
  "language_info": {
   "codemirror_mode": {
    "name": "ipython",
    "version": 2
   },
   "file_extension": ".py",
   "mimetype": "text/x-python",
   "name": "python",
   "nbconvert_exporter": "python",
   "pygments_lexer": "ipython2",
   "version": "2.7.10"
  }
 },
 "nbformat": 4,
 "nbformat_minor": 0
}
